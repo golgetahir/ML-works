{
 "cells": [
  {
   "cell_type": "code",
   "execution_count": 1,
   "metadata": {
    "colab": {},
    "colab_type": "code",
    "id": "muUVvDaSdgeY"
   },
   "outputs": [],
   "source": [
    "import pandas as pd\n",
    "import numpy as np\n",
    "import pickle\n",
    "from sklearn.preprocessing import StandardScaler\n",
    "import plotly.plotly as py\n",
    "import matplotlib.pyplot as plt\n",
    "import seaborn as sbn\n",
    "from sklearn.decomposition import PCA as pc\n",
    "import math"
   ]
  },
  {
   "cell_type": "code",
   "execution_count": 3,
   "metadata": {
    "colab": {},
    "colab_type": "code",
    "id": "kinNgvIDdged"
   },
   "outputs": [],
   "source": [
    "TrainDf = pd.read_csv('aps_failure_training_set_processed_8bit.csv')\n",
    "X_all = TrainDf.drop('class',axis=1)\n",
    "Y = TrainDf['class']\n",
    "Y = Y.round()\n",
    "Y = Y.replace(to_replace=-1,value=0)\n",
    "\n",
    "Test = pd.read_csv('aps_failure_test_set_processed_8bit.csv')\n",
    "TestFe = Test.drop('class',axis=1)\n",
    "TestL = Test['class']\n",
    "TestL = TestL.round()\n",
    "TestL = TestL.replace(to_replace=-1,value=0)"
   ]
  },
  {
   "cell_type": "code",
   "execution_count": 8,
   "metadata": {
    "colab": {},
    "colab_type": "code",
    "id": "cWUDluX7dgeg"
   },
   "outputs": [],
   "source": [
    "X_std = StandardScaler().fit_transform(X_all)\n",
    "pca_ = pc(n_components=13)\n",
    "X = pca_.fit_transform(X_std)\n",
    "TestLstd = StandardScaler().fit_transform(TestFe)\n",
    "Xtest = pca_.fit_transform(TestLstd)"
   ]
  },
  {
   "cell_type": "code",
   "execution_count": 4,
   "metadata": {
    "colab": {},
    "colab_type": "code",
    "id": "66Sajmf_dgej"
   },
   "outputs": [],
   "source": [
    "def PCA(X_all):\n",
    "    X_std = StandardScaler().fit_transform(X_all)\n",
    "    covM = np.cov(X_std.T)\n",
    "    eigvalues, eigvectors = np.linalg.eig(covM)\n",
    "    eig_pairs = [(np.abs(eigvalues[i]), eigvectors[:,i]) for i in range(len(eigvalues))]\n",
    "    eig_pairs.sort()\n",
    "    eig_pairs.reverse()\n",
    "    matrix_w = np.hstack((eig_pairs[0][1].reshape(170,1), \n",
    "                      eig_pairs[1][1].reshape(170,1),\n",
    "                      eig_pairs[2][1].reshape(170,1), \n",
    "                      eig_pairs[3][1].reshape(170,1),\n",
    "                      eig_pairs[4][1].reshape(170,1), \n",
    "                      eig_pairs[5][1].reshape(170,1),\n",
    "                      eig_pairs[6][1].reshape(170,1), \n",
    "                      eig_pairs[7][1].reshape(170,1),\n",
    "                      eig_pairs[8][1].reshape(170,1), \n",
    "                      eig_pairs[9][1].reshape(170,1),\n",
    "                      eig_pairs[10][1].reshape(170,1), \n",
    "                      eig_pairs[11][1].reshape(170,1),\n",
    "                      eig_pairs[12][1].reshape(170,1), \n",
    "                      ))\n",
    "    ProjX = X_std.dot(matrix_w)\n",
    "    return ProjX"
   ]
  },
  {
   "cell_type": "code",
   "execution_count": 5,
   "metadata": {
    "colab": {},
    "colab_type": "code",
    "id": "oG-gvCN3dge8"
   },
   "outputs": [],
   "source": [
    "def sigmoid(z):\n",
    "    return (1/(1 + np.e**(-z)))\n",
    "\n",
    "def predict(X,w):\n",
    "    z = np.dot(X,w)\n",
    "    return sigmoid(z)\n",
    "\n",
    "def cost_function(X,y,w):\n",
    "    #Finding mean error\n",
    "    num_of_observation = len(y)\n",
    "    predictions = predict(X, w)\n",
    "    cost0=[]\n",
    "    cost1=[]\n",
    "    for i in range(len(y)):\n",
    "        if(y[i] == 1 and predictions[i] != 0 ):\n",
    "            cost1.append(y[i]*math.log(predictions[i]))\n",
    "            cost0.append(0)\n",
    "        elif(y[i] == 1 and predictions[i] == 0 ):\n",
    "            cost0.append(0)\n",
    "            cost1.append(0)\n",
    "        elif(y[i] == 0 and predictions[i] != 1):\n",
    "            cost0.append((1-y[i])*math.log(1-predictions[i]))\n",
    "            cost1.append(0)\n",
    "        elif(y[i] == 0 and predictions[i] == 1):\n",
    "            cost1.append(0)\n",
    "            cost0.append(0)\n",
    "            \n",
    "        \n",
    "    total_cost = np.array(cost1 + cost0)\n",
    "    avr_cost = total_cost.sum() / num_of_observation\n",
    "    return avr_cost\n",
    "\n",
    "def update(X,y,w,lr):\n",
    "    predictions = predict(X,w)\n",
    "    Gradient = np.dot(X.T, (predictions - y))\n",
    "    \n",
    "    Gradient = Gradient / len(X)\n",
    "    \n",
    "    Gradient *= lr\n",
    "    \n",
    "    w = w + Gradient\n",
    "    \n",
    "    return w\n",
    "\n",
    "def decision_boundary(prob):\n",
    "    return 1 if prob >= .5 else 0\n",
    "\n",
    "def classify(predictions):\n",
    "    decision_boundary = np.vectorize(decision_boundary)\n",
    "    return decision_boundary(predictions).flatten()\n",
    "\n",
    "def train(features, labels, weights, lr, iters):\n",
    "    cost_history = []\n",
    "\n",
    "    for i in range(iters):\n",
    "        weights = update(features, labels, weights, lr)\n",
    "\n",
    "        #Calculate error for auditing purposes\n",
    "        cost = cost_function(features, labels, weights)\n",
    "        cost_history.append(cost)\n",
    "\n",
    "        # Log Progress\n",
    "        if i % 1000 == 0:\n",
    "            print (\"iter: \" + str(i) + \" cost: \"+str(cost))\n",
    "\n",
    "    return weights, cost_history"
   ]
  },
  {
   "cell_type": "code",
   "execution_count": 6,
   "metadata": {
    "colab": {},
    "colab_type": "code",
    "id": "XkpNdp2fdgfD"
   },
   "outputs": [],
   "source": [
    "from sklearn.metrics import confusion_matrix"
   ]
  },
  {
   "cell_type": "code",
   "execution_count": 59,
   "metadata": {
    "colab": {
     "base_uri": "https://localhost:8080/",
     "height": 85
    },
    "colab_type": "code",
    "id": "VyUTMvS1dgfG",
    "outputId": "4b93790b-9438-415a-bfa5-862dc031646a"
   },
   "outputs": [
    {
     "name": "stderr",
     "output_type": "stream",
     "text": [
      "/usr/local/lib/python3.6/dist-packages/ipykernel_launcher.py:2: RuntimeWarning:\n",
      "\n",
      "overflow encountered in power\n",
      "\n"
     ]
    }
   ],
   "source": [
    "k = predict(Xtest,trainedweights)\n",
    "confus = confusion_matrix(TestL, a)"
   ]
  },
  {
   "cell_type": "code",
   "execution_count": 48,
   "metadata": {
    "colab": {
     "base_uri": "https://localhost:8080/",
     "height": 51
    },
    "colab_type": "code",
    "id": "ME8Jd22adgfI",
    "outputId": "9c7b57a9-1dad-4296-b5ad-31e5e4d925c9"
   },
   "outputs": [
    {
     "data": {
      "text/plain": [
       "array([[9136, 6489],\n",
       "       [   4,  371]])"
      ]
     },
     "execution_count": 48,
     "metadata": {
      "tags": []
     },
     "output_type": "execute_result"
    }
   ],
   "source": [
    "confus"
   ]
  },
  {
   "cell_type": "code",
   "execution_count": 54,
   "metadata": {
    "colab": {
     "base_uri": "https://localhost:8080/",
     "height": 51
    },
    "colab_type": "code",
    "id": "QOxEv34MdgfM",
    "outputId": "120eb219-b2c7-47d0-830f-1ad9d248fa33"
   },
   "outputs": [
    {
     "data": {
      "text/plain": [
       "array([[8999, 6626],\n",
       "       [   4,  371]])"
      ]
     },
     "execution_count": 54,
     "metadata": {
      "tags": []
     },
     "output_type": "execute_result"
    }
   ],
   "source": [
    "confus"
   ]
  },
  {
   "cell_type": "code",
   "execution_count": 60,
   "metadata": {
    "colab": {
     "base_uri": "https://localhost:8080/",
     "height": 51
    },
    "colab_type": "code",
    "id": "7JFMt0bBdgfQ",
    "outputId": "b71355f8-9dbe-45a3-b9f1-c30c2cc9027b"
   },
   "outputs": [
    {
     "data": {
      "text/plain": [
       "array([[9187, 6438],\n",
       "       [   4,  371]])"
      ]
     },
     "execution_count": 60,
     "metadata": {
      "tags": []
     },
     "output_type": "execute_result"
    }
   ],
   "source": [
    "confus"
   ]
  },
  {
   "cell_type": "code",
   "execution_count": 11,
   "metadata": {
    "colab": {
     "base_uri": "https://localhost:8080/",
     "height": 119
    },
    "colab_type": "code",
    "id": "6X82TBYHdgfV",
    "outputId": "054fdecd-d708-4274-9fa2-54dd257113f9"
   },
   "outputs": [
    {
     "name": "stdout",
     "output_type": "stream",
     "text": [
      "iter: 0 cost: 2.1382931262212095\n"
     ]
    },
    {
     "name": "stderr",
     "output_type": "stream",
     "text": [
      "C:\\Users\\tahir\\AppData\\Local\\Continuum\\anaconda3\\lib\\site-packages\\ipykernel_launcher.py:2: RuntimeWarning:\n",
      "\n",
      "overflow encountered in power\n",
      "\n"
     ]
    }
   ],
   "source": [
    "Y = np.array(Y)\n",
    "weights= np.ones(13)\n",
    "trainedweights, costhist = train(Xdownsampled,Ydownsampled,weights,0.1,500)"
   ]
  },
  {
   "cell_type": "code",
   "execution_count": 57,
   "metadata": {
    "colab": {
     "base_uri": "https://localhost:8080/",
     "height": 85
    },
    "colab_type": "code",
    "id": "jY_ZTCJbdgfY",
    "outputId": "63c2aacf-a8aa-4e81-8c82-9e393fe52f77"
   },
   "outputs": [
    {
     "name": "stderr",
     "output_type": "stream",
     "text": [
      "/usr/local/lib/python3.6/dist-packages/ipykernel_launcher.py:2: RuntimeWarning:\n",
      "\n",
      "overflow encountered in power\n",
      "\n"
     ]
    }
   ],
   "source": [
    "a = predict(Xtest,trainedweights)\n",
    "a = a.round()"
   ]
  },
  {
   "cell_type": "code",
   "execution_count": 9,
   "metadata": {
    "colab": {},
    "colab_type": "code",
    "id": "4py74_xHmUju"
   },
   "outputs": [],
   "source": [
    "Xdownsampled = X[:10000]\n",
    "Ydownsampled = Y[:10000]"
   ]
  },
  {
   "cell_type": "code",
   "execution_count": 0,
   "metadata": {
    "colab": {},
    "colab_type": "code",
    "id": "21_GD5z-nHLc"
   },
   "outputs": [],
   "source": []
  }
 ],
 "metadata": {
  "accelerator": "GPU",
  "colab": {
   "name": "Untitled.ipynb",
   "provenance": [],
   "version": "0.3.2"
  },
  "kernelspec": {
   "display_name": "Python 3",
   "language": "python",
   "name": "python3"
  },
  "language_info": {
   "codemirror_mode": {
    "name": "ipython",
    "version": 3
   },
   "file_extension": ".py",
   "mimetype": "text/x-python",
   "name": "python",
   "nbconvert_exporter": "python",
   "pygments_lexer": "ipython3",
   "version": "3.7.1"
  }
 },
 "nbformat": 4,
 "nbformat_minor": 1
}
