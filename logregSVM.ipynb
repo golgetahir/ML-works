{
 "cells": [
  {
   "cell_type": "code",
   "execution_count": 1,
   "metadata": {},
   "outputs": [],
   "source": [
    "import numpy as np\n",
    "import pandas as pd\n",
    "import math\n",
    "import matplotlib.pyplot as plt\n",
    "from sklearn.metrics import confusion_matrix\n",
    "from sklearn import svm"
   ]
  },
  {
   "cell_type": "code",
   "execution_count": 2,
   "metadata": {},
   "outputs": [],
   "source": [
    "TrainLabelsDf = pd.read_csv('question-2-train-labels.csv', header=None)\n",
    "TrainFeatureDf = pd.read_csv('question-2-train-features.csv',header = None)\n",
    "TestLabelsDf = pd.read_csv('question-2-test-labels.csv', header = None)\n",
    "TestFeatureDf = pd.read_csv('question-2-test-features.csv', header = None)\n",
    "\n",
    "Xtrain = np.array(TrainFeatureDf)\n",
    "Xtest = np.array(TestFeatureDf)"
   ]
  },
  {
   "cell_type": "code",
   "execution_count": 18,
   "metadata": {},
   "outputs": [],
   "source": [
    "Mean = TrainLabelsDf.mean()\n",
    "Ytrain = TrainLabelsDf > Mean\n",
    "Ytrain = Ytrain.astype(int)\n",
    "Ytrain = np.array(Ytrain)\n",
    "Mean = TestLabelsDf.mean()\n",
    "Ytest = TestLabelsDf > Mean\n",
    "Ytest = Ytest.astype(int)\n",
    "YCV = Ytest\n",
    "Ytest = np.array(Ytest)"
   ]
  },
  {
   "cell_type": "code",
   "execution_count": 10,
   "metadata": {},
   "outputs": [],
   "source": [
    "def sigmoid(z):\n",
    "    a = 1/(1+np.e**(-z))\n",
    "    a = a.T\n",
    "    return a\n",
    "\n",
    "def pi(X,w):\n",
    "    z = w.T.dot(X.T)\n",
    "    return np.array(sigmoid(z))\n",
    "\n",
    "def likelihood(X,y,w):\n",
    "    summa = 0\n",
    "    for i in range(len(X)):\n",
    "        z = np.dot(w.T,X[i])\n",
    "        summa += (y[i]*(z)-math.log(1 + math.exp(z)))\n",
    "    return summa\n",
    "\n",
    "def cost_function(X,y,w):\n",
    "    #Finding mean error\n",
    "    num_of_observation = len(y)\n",
    "    predictions = pi(X, w)\n",
    "    cost0=[]\n",
    "    cost1=[]\n",
    "    for i in range(len(y)):\n",
    "        if(y[i] == 1 and predictions[i] != 0 ):\n",
    "            cost1.append(y[i]*math.log(predictions[i]))\n",
    "            cost0.append(0)\n",
    "        elif(y[i] == 1 and predictions[i] == 0 ):\n",
    "            cost0.append(0)\n",
    "            cost1.append(0)\n",
    "        elif(y[i] == 0 and predictions[i] != 1):\n",
    "            cost0.append((1-y[i])*math.log(1-predictions[i]))\n",
    "            cost1.append(0)\n",
    "        elif(y[i] == 0 and predictions[i] == 1):\n",
    "            cost1.append(0)\n",
    "            cost0.append(0)\n",
    "            \n",
    "        \n",
    "    total_cost = np.array(cost1 + cost0)\n",
    "    avr_cost = total_cost.sum() / num_of_observation\n",
    "    return avr_cost\n",
    "\n",
    "def update(X,y,w,lr):\n",
    "    w = w.reshape(8,1)\n",
    "    \n",
    "    predictions = pi(X,w)\n",
    "        \n",
    "    Gradient = np.dot(X.T, (y - predictions ))\n",
    "    \n",
    "    Gradient = Gradient / len(X)\n",
    "    \n",
    "    Gradient *= lr\n",
    "    \n",
    "    w = w + Gradient\n",
    "    \n",
    "    return w\n",
    "def mini_batches(X, y, batch_size): \n",
    "    mini_batches = [] \n",
    "    data = np.hstack((X, y)) \n",
    "    np.random.shuffle(data) \n",
    "    n_batches = data.shape[0] // batch_size \n",
    "\n",
    "    for i in range(n_batches + 1): \n",
    "        batch = data[i * batch_size:(i + 1)*batch_size, :] \n",
    "        X_mini = batch[:, :-1] \n",
    "        Y_mini = batch[:, -1].reshape((-1, 1)) \n",
    "        mini_batches.append((X_mini, Y_mini)) \n",
    "    \n",
    "    if data.shape[0] % batch_size != 0: \n",
    "        batch = data[i * batch_size:data.shape[0]] \n",
    "        Xnew = batch[:, :-1] \n",
    "        Ynew = batch[:, -1].reshape((-1, 1)) \n",
    "        mini_batches.append((Xnew, Ynew)) \n",
    "    return mini_batches\n",
    "\n",
    "def train(X, Y, weights, lr, iters):\n",
    "    costhist = []\n",
    "    for i in range(iters):\n",
    "        weights = update(X, Y, weights, lr)\n",
    "        cost = likelihood(X, Y, weights)\n",
    "        costhist.append(cost)\n",
    "        \n",
    "        if i % 100 == 0:\n",
    "            print (\"iter: \" + str(i) + \" likelihood: \"+str(cost))\n",
    "\n",
    "    return weights, costhist\n",
    "\n",
    "def batchtrain(X, Y, weights, lr, iters,batchsize):\n",
    "    costhist = []\n",
    "    costhist.append(likelihood(X, Y, weights))\n",
    "    for i in range(iters):\n",
    "        minibatches = mini_batches(X,Y,batchsize)\n",
    "        for m in minibatches:\n",
    "            xmini, ymini = m\n",
    "            weights = update(xmini, ymini, weights, lr)\n",
    "            cost = likelihood(xmini, ymini, weights)\n",
    "            costhist.append(cost)\n",
    "        \n",
    "        if i % 100 == 0:\n",
    "            print (\"iter: \" + str(i) + \" likelihood: \"+str(cost))\n",
    "\n",
    "    return weights, costhist"
   ]
  },
  {
   "cell_type": "markdown",
   "metadata": {},
   "source": [
    "BEST TO CHOOSE LR = 0.01 SINCE LIKELIHOOD FUNCTION BEHAVES WELL AND IT GIVES THE MAXIMUM LIKELIHOOD FUNCTION VALUE OF DIFFERENT LEARNING RATES(E.G. 1000TH ITERATION OF 0.0001 IS -9476 AND 0.01 IS -8400"
   ]
  },
  {
   "cell_type": "code",
   "execution_count": 56,
   "metadata": {},
   "outputs": [
    {
     "name": "stdout",
     "output_type": "stream",
     "text": [
      "iter: 0 likelihood: [-9667.36978899]\n",
      "iter: 100 likelihood: [-9038.68101705]\n",
      "iter: 200 likelihood: [-8871.92331225]\n",
      "iter: 300 likelihood: [-8752.15841195]\n",
      "iter: 400 likelihood: [-8659.54057001]\n",
      "iter: 500 likelihood: [-8586.02237404]\n",
      "iter: 600 likelihood: [-8526.48053635]\n",
      "iter: 700 likelihood: [-8477.31656788]\n",
      "iter: 800 likelihood: [-8435.94673764]\n",
      "iter: 900 likelihood: [-8400.49541878]\n",
      "accuracy = 0.6589698046181173\n"
     ]
    }
   ],
   "source": [
    "weights= np.zeros(8)\n",
    "\n",
    "trainedweights, costhist = train(Xtrain,Ytrain,weights,lr = 0.01, iters = 1000)\n",
    "\n",
    "k = pi(Xtest,trainedweights)\n",
    "k = k.round()\n",
    "f = k == Ytest\n",
    "count = 0\n",
    "for i in range(len(f)):\n",
    "    if f[i] == True: \n",
    "        count += 1 \n",
    "accuracy = count / len(Ytest)\n",
    "print('accuracy = ' + str(accuracy))"
   ]
  },
  {
   "cell_type": "markdown",
   "metadata": {},
   "source": [
    "FOR CONFUSION MATRIX BELOW, (0,0) IS TN, (1,0) IS FN, (1,1) TP, (0,1) FP\n"
   ]
  },
  {
   "cell_type": "code",
   "execution_count": 57,
   "metadata": {},
   "outputs": [
    {
     "name": "stdout",
     "output_type": "stream",
     "text": [
      "[[1521  441]\n",
      " [ 711  705]]\n",
      "precision = 0.6151832460732984\n",
      "recall = 0.4978813559322034\n",
      "NPV = 0.6814516129032258\n",
      "FPR = 0.22477064220183487\n",
      "FDR = 0.08228571428571428\n"
     ]
    }
   ],
   "source": [
    "confus = confusion_matrix(Ytest, k)\n",
    "print(confus)\n",
    "precision = confus[1][1] / (confus[1][1] + confus[0][1])\n",
    "print('precision = ' + str(precision))\n",
    "recall = confus[1][1] / (confus[1][1] + confus[1][0])\n",
    "print('recall = ' + str(recall))\n",
    "NPR = confus[0][0] / (confus[0][0] + confus[1][0])\n",
    "print('NPV = ' + str(NPR))\n",
    "FPR = confus[0][1] / (confus[0][1] + confus[0][0])\n",
    "print('FPR = ' + str(FPR))\n",
    "FDR = (confus[0][1] + confus[1][0] )/ (len(Ytrain))\n",
    "print('FDR = ' + str(FDR))"
   ]
  },
  {
   "cell_type": "code",
   "execution_count": 58,
   "metadata": {},
   "outputs": [
    {
     "name": "stdout",
     "output_type": "stream",
     "text": [
      "iter: 0 likelihood: [-18.3582215]\n",
      "iter: 100 likelihood: [-3.37904498]\n",
      "iter: 200 likelihood: [-13.4211142]\n",
      "iter: 300 likelihood: [-13.0051838]\n",
      "iter: 400 likelihood: [-26.47654886]\n",
      "iter: 500 likelihood: [-6.23720428]\n",
      "iter: 600 likelihood: [-23.17760265]\n",
      "iter: 700 likelihood: [-42.70704818]\n",
      "iter: 800 likelihood: [-6.90346273]\n",
      "iter: 900 likelihood: [-8.10285499]\n",
      "accuracy = 0.7329780935464772\n"
     ]
    }
   ],
   "source": [
    "weights= np.zeros(8)\n",
    "trainedweights, costhist = batchtrain(Xtrain,Ytrain,weights,lr = 0.1, iters = 1000,batchsize=32)\n",
    "k = pi(Xtest,trainedweights)\n",
    "k = k.round()\n",
    "f = k == Ytest\n",
    "count = 0\n",
    "for i in range(len(f)):\n",
    "    if f[i] == True: \n",
    "        count += 1 \n",
    "accuracy = count / len(Ytest)\n",
    "print('accuracy = ' + str(accuracy))"
   ]
  },
  {
   "cell_type": "code",
   "execution_count": 59,
   "metadata": {},
   "outputs": [
    {
     "name": "stdout",
     "output_type": "stream",
     "text": [
      "[[1745  217]\n",
      " [ 685  731]]\n",
      "precision = 0.7710970464135021\n",
      "recall = 0.5162429378531074\n",
      "NPV = 0.7181069958847737\n",
      "FPR = 0.11060142711518858\n",
      "FDR = 0.06442857142857143\n"
     ]
    }
   ],
   "source": [
    "confus = confusion_matrix(Ytest, k)\n",
    "print(confus)\n",
    "precision = confus[1][1] / (confus[1][1] + confus[0][1])\n",
    "print('precision = ' + str(precision))\n",
    "recall = confus[1][1] / (confus[1][1] + confus[1][0])\n",
    "print('recall = ' + str(recall))\n",
    "NPR = confus[0][0] / (confus[0][0] + confus[1][0])\n",
    "print('NPV = ' + str(NPR))\n",
    "FPR = confus[0][1] / (confus[0][1] + confus[0][0])\n",
    "print('FPR = ' + str(FPR))\n",
    "FDR = (confus[0][1] + confus[1][0] )/ (len(Ytrain))\n",
    "print('FDR = ' + str(FDR))"
   ]
  },
  {
   "cell_type": "code",
   "execution_count": 33,
   "metadata": {},
   "outputs": [],
   "source": [
    "clssvm = svm.SVC(kernel='linear',C=0.1)"
   ]
  },
  {
   "cell_type": "code",
   "execution_count": 19,
   "metadata": {},
   "outputs": [],
   "source": [
    "TestCVf = TestFeatureDf.drop(labels=[3370,3371,3372,3373,3374,3375,3376,3377])\n",
    "XtestCV = np.array(TestCVf)\n",
    "TestCVl = YCV.drop(labels=[3370,3371,3372,3373,3374,3375,3376,3377])\n",
    "YtestCV = np.array(TestCVl)\n",
    "XCV = np.concatenate((Xtrain,XtestCV))\n",
    "YCV = np.concatenate((Ytrain,YtestCV))\n",
    "\n",
    "folds = []\n",
    "foldlabels = []\n",
    "for i in range(10):\n",
    "    folds.append(XCV[(i*1737):((i+1)*1737)])\n",
    "    foldlabels.append(YCV[(i*1737):((i+1)*1737)])"
   ]
  },
  {
   "cell_type": "markdown",
   "metadata": {},
   "source": [
    "BELOW AND ABOVE CELL IS FOR 10 FOLD CV AT LINEAR KERNEL SVM"
   ]
  },
  {
   "cell_type": "code",
   "execution_count": 34,
   "metadata": {},
   "outputs": [
    {
     "name": "stderr",
     "output_type": "stream",
     "text": [
      "C:\\Users\\tahir\\AppData\\Local\\Continuum\\anaconda3\\lib\\site-packages\\sklearn\\utils\\validation.py:761: DataConversionWarning: A column-vector y was passed when a 1d array was expected. Please change the shape of y to (n_samples, ), for example using ravel().\n",
      "  y = column_or_1d(y, warn=True)\n"
     ]
    },
    {
     "name": "stdout",
     "output_type": "stream",
     "text": [
      "accuracy = 0.7294185377086931\n",
      "[[1058  106]\n",
      " [ 364  209]]\n",
      "precision = 0.6634920634920635\n",
      "recall = 0.3647469458987784\n",
      "NPV = 0.7440225035161744\n",
      "FPR = 0.09106529209621993\n",
      "FDR = 0.03357142857142857\n"
     ]
    },
    {
     "name": "stderr",
     "output_type": "stream",
     "text": [
      "C:\\Users\\tahir\\AppData\\Local\\Continuum\\anaconda3\\lib\\site-packages\\sklearn\\utils\\validation.py:761: DataConversionWarning: A column-vector y was passed when a 1d array was expected. Please change the shape of y to (n_samples, ), for example using ravel().\n",
      "  y = column_or_1d(y, warn=True)\n"
     ]
    },
    {
     "name": "stdout",
     "output_type": "stream",
     "text": [
      "accuracy = 0.7697179044329303\n",
      "[[627 197]\n",
      " [203 710]]\n",
      "precision = 0.782800441014333\n",
      "recall = 0.7776560788608982\n",
      "NPV = 0.755421686746988\n",
      "FPR = 0.23907766990291263\n",
      "FDR = 0.02857142857142857\n"
     ]
    },
    {
     "name": "stderr",
     "output_type": "stream",
     "text": [
      "C:\\Users\\tahir\\AppData\\Local\\Continuum\\anaconda3\\lib\\site-packages\\sklearn\\utils\\validation.py:761: DataConversionWarning: A column-vector y was passed when a 1d array was expected. Please change the shape of y to (n_samples, ), for example using ravel().\n",
      "  y = column_or_1d(y, warn=True)\n"
     ]
    },
    {
     "name": "stdout",
     "output_type": "stream",
     "text": [
      "accuracy = 0.8324697754749568\n",
      "[[483 153]\n",
      " [138 963]]\n",
      "precision = 0.8629032258064516\n",
      "recall = 0.8746594005449592\n",
      "NPV = 0.7777777777777778\n",
      "FPR = 0.24056603773584906\n",
      "FDR = 0.020785714285714286\n"
     ]
    },
    {
     "name": "stderr",
     "output_type": "stream",
     "text": [
      "C:\\Users\\tahir\\AppData\\Local\\Continuum\\anaconda3\\lib\\site-packages\\sklearn\\utils\\validation.py:761: DataConversionWarning: A column-vector y was passed when a 1d array was expected. Please change the shape of y to (n_samples, ), for example using ravel().\n",
      "  y = column_or_1d(y, warn=True)\n"
     ]
    },
    {
     "name": "stdout",
     "output_type": "stream",
     "text": [
      "accuracy = 0.7069660333909038\n",
      "[[676  70]\n",
      " [439 552]]\n",
      "precision = 0.887459807073955\n",
      "recall = 0.557013118062563\n",
      "NPV = 0.6062780269058295\n",
      "FPR = 0.0938337801608579\n",
      "FDR = 0.03635714285714286\n"
     ]
    },
    {
     "name": "stderr",
     "output_type": "stream",
     "text": [
      "C:\\Users\\tahir\\AppData\\Local\\Continuum\\anaconda3\\lib\\site-packages\\sklearn\\utils\\validation.py:761: DataConversionWarning: A column-vector y was passed when a 1d array was expected. Please change the shape of y to (n_samples, ), for example using ravel().\n",
      "  y = column_or_1d(y, warn=True)\n"
     ]
    },
    {
     "name": "stdout",
     "output_type": "stream",
     "text": [
      "accuracy = 0.7012089810017271\n",
      "[[1069   57]\n",
      " [ 462  149]]\n",
      "precision = 0.7233009708737864\n",
      "recall = 0.24386252045826515\n",
      "NPV = 0.6982364467668191\n",
      "FPR = 0.050621669626998225\n",
      "FDR = 0.037071428571428575\n"
     ]
    },
    {
     "name": "stderr",
     "output_type": "stream",
     "text": [
      "C:\\Users\\tahir\\AppData\\Local\\Continuum\\anaconda3\\lib\\site-packages\\sklearn\\utils\\validation.py:761: DataConversionWarning: A column-vector y was passed when a 1d array was expected. Please change the shape of y to (n_samples, ), for example using ravel().\n",
      "  y = column_or_1d(y, warn=True)\n"
     ]
    },
    {
     "name": "stdout",
     "output_type": "stream",
     "text": [
      "accuracy = 0.7374784110535406\n",
      "[[1088  127]\n",
      " [ 329  193]]\n",
      "precision = 0.603125\n",
      "recall = 0.36973180076628354\n",
      "NPV = 0.7678193366266761\n",
      "FPR = 0.10452674897119342\n",
      "FDR = 0.03257142857142857\n"
     ]
    },
    {
     "name": "stderr",
     "output_type": "stream",
     "text": [
      "C:\\Users\\tahir\\AppData\\Local\\Continuum\\anaconda3\\lib\\site-packages\\sklearn\\utils\\validation.py:761: DataConversionWarning: A column-vector y was passed when a 1d array was expected. Please change the shape of y to (n_samples, ), for example using ravel().\n",
      "  y = column_or_1d(y, warn=True)\n"
     ]
    },
    {
     "name": "stdout",
     "output_type": "stream",
     "text": [
      "accuracy = 0.7478411053540587\n",
      "[[731 223]\n",
      " [215 568]]\n",
      "precision = 0.718078381795196\n",
      "recall = 0.7254150702426565\n",
      "NPV = 0.7727272727272727\n",
      "FPR = 0.23375262054507337\n",
      "FDR = 0.031285714285714285\n"
     ]
    },
    {
     "name": "stderr",
     "output_type": "stream",
     "text": [
      "C:\\Users\\tahir\\AppData\\Local\\Continuum\\anaconda3\\lib\\site-packages\\sklearn\\utils\\validation.py:761: DataConversionWarning: A column-vector y was passed when a 1d array was expected. Please change the shape of y to (n_samples, ), for example using ravel().\n",
      "  y = column_or_1d(y, warn=True)\n"
     ]
    },
    {
     "name": "stdout",
     "output_type": "stream",
     "text": [
      "accuracy = 0.6989061600460564\n",
      "[[430 488]\n",
      " [ 35 784]]\n",
      "precision = 0.6163522012578616\n",
      "recall = 0.9572649572649573\n",
      "NPV = 0.9247311827956989\n",
      "FPR = 0.5315904139433552\n",
      "FDR = 0.03735714285714286\n"
     ]
    },
    {
     "name": "stderr",
     "output_type": "stream",
     "text": [
      "C:\\Users\\tahir\\AppData\\Local\\Continuum\\anaconda3\\lib\\site-packages\\sklearn\\utils\\validation.py:761: DataConversionWarning: A column-vector y was passed when a 1d array was expected. Please change the shape of y to (n_samples, ), for example using ravel().\n",
      "  y = column_or_1d(y, warn=True)\n"
     ]
    },
    {
     "name": "stdout",
     "output_type": "stream",
     "text": [
      "accuracy = 0.7599309153713298\n",
      "[[970 181]\n",
      " [236 350]]\n",
      "precision = 0.6591337099811676\n",
      "recall = 0.5972696245733788\n",
      "NPV = 0.8043117744610282\n",
      "FPR = 0.157254561251086\n",
      "FDR = 0.029785714285714287\n"
     ]
    },
    {
     "name": "stderr",
     "output_type": "stream",
     "text": [
      "C:\\Users\\tahir\\AppData\\Local\\Continuum\\anaconda3\\lib\\site-packages\\sklearn\\utils\\validation.py:761: DataConversionWarning: A column-vector y was passed when a 1d array was expected. Please change the shape of y to (n_samples, ), for example using ravel().\n",
      "  y = column_or_1d(y, warn=True)\n"
     ]
    },
    {
     "name": "stdout",
     "output_type": "stream",
     "text": [
      "accuracy = 0.7852619458837076\n",
      "[[1304  303]\n",
      " [  70   60]]\n",
      "precision = 0.1652892561983471\n",
      "recall = 0.46153846153846156\n",
      "NPV = 0.9490538573508006\n",
      "FPR = 0.18855009334163036\n",
      "FDR = 0.026642857142857142\n",
      "MEAN ERROR = 0.7469199769717904\n"
     ]
    }
   ],
   "source": [
    "errors = []\n",
    "foldtrain = np.concatenate((folds[0], folds[1],folds[2],folds[3],folds[4],folds[5],folds[6],folds[7],folds[8]))\n",
    "foldlabelstrain = np.concatenate((foldlabels[0], foldlabels[1],foldlabels[2],foldlabels[3],foldlabels[4],foldlabels[5],foldlabels[6],foldlabels[7],foldlabels[8]))\n",
    "\n",
    "clssvm.fit(foldtrain,foldlabelstrain )\n",
    "print('accuracy = ' + str(clssvm.score(folds[9],foldlabels[9])))\n",
    "errors.append(clssvm.score(folds[9],foldlabels[9]))\n",
    "k = clssvm.predict(folds[9])\n",
    "\n",
    "confus = confusion_matrix(foldlabels[9], k)\n",
    "print(confus)\n",
    "precision = confus[1][1] / (confus[1][1] + confus[0][1])\n",
    "print('precision = ' + str(precision))\n",
    "recall = confus[1][1] / (confus[1][1] + confus[1][0])\n",
    "print('recall = ' + str(recall))\n",
    "NPR = confus[0][0] / (confus[0][0] + confus[1][0])\n",
    "print('NPV = ' + str(NPR))\n",
    "FPR = confus[0][1] / (confus[0][1] + confus[0][0])\n",
    "print('FPR = ' + str(FPR))\n",
    "FDR = (confus[0][1] + confus[1][0] )/ (len(Ytrain))\n",
    "print('FDR = ' + str(FDR))\n",
    "\n",
    "foldtrain = np.concatenate((folds[0], folds[1],folds[2],folds[3],folds[4],folds[5],folds[6],folds[7],folds[9]))\n",
    "foldlabelstrain = np.concatenate((foldlabels[0], foldlabels[1],foldlabels[2],foldlabels[3],foldlabels[4],foldlabels[5],foldlabels[6],foldlabels[7],foldlabels[9]))\n",
    "\n",
    "clssvm.fit(foldtrain,foldlabelstrain )\n",
    "errors.append(clssvm.score(folds[8],foldlabels[8]))\n",
    "k = clssvm.predict(folds[8])\n",
    "print('accuracy = ' + str(clssvm.score(folds[8],foldlabels[8])))\n",
    "confus = confusion_matrix(foldlabels[8], k)\n",
    "print(confus)\n",
    "precision = confus[1][1] / (confus[1][1] + confus[0][1])\n",
    "print('precision = ' + str(precision))\n",
    "recall = confus[1][1] / (confus[1][1] + confus[1][0])\n",
    "print('recall = ' + str(recall))\n",
    "NPR = confus[0][0] / (confus[0][0] + confus[1][0])\n",
    "print('NPV = ' + str(NPR))\n",
    "FPR = confus[0][1] / (confus[0][1] + confus[0][0])\n",
    "print('FPR = ' + str(FPR))\n",
    "FDR = (confus[0][1] + confus[1][0] )/ (len(Ytrain))\n",
    "print('FDR = ' + str(FDR))\n",
    "\n",
    "\n",
    "foldtrain = np.concatenate((folds[0], folds[1],folds[2],folds[3],folds[4],folds[5],folds[6],folds[8],folds[9]))\n",
    "foldlabelstrain = np.concatenate((foldlabels[0], foldlabels[1],foldlabels[2],foldlabels[3],foldlabels[4],foldlabels[5],foldlabels[6],foldlabels[8],foldlabels[9]))\n",
    "\n",
    "clssvm.fit(foldtrain,foldlabelstrain )\n",
    "errors.append(clssvm.score(folds[7],foldlabels[7]))\n",
    "k = clssvm.predict(folds[7])\n",
    "print('accuracy = ' + str(clssvm.score(folds[7],foldlabels[7])))\n",
    "confus = confusion_matrix(foldlabels[7], k)\n",
    "print(confus)\n",
    "precision = confus[1][1] / (confus[1][1] + confus[0][1])\n",
    "print('precision = ' + str(precision))\n",
    "recall = confus[1][1] / (confus[1][1] + confus[1][0])\n",
    "print('recall = ' + str(recall))\n",
    "NPR = confus[0][0] / (confus[0][0] + confus[1][0])\n",
    "print('NPV = ' + str(NPR))\n",
    "FPR = confus[0][1] / (confus[0][1] + confus[0][0])\n",
    "print('FPR = ' + str(FPR))\n",
    "FDR = (confus[0][1] + confus[1][0] )/ (len(Ytrain))\n",
    "print('FDR = ' + str(FDR))\n",
    "\n",
    "foldtrain = np.concatenate((folds[0], folds[1],folds[2],folds[3],folds[4],folds[5],folds[7],folds[8],folds[9]))\n",
    "foldlabelstrain = np.concatenate((foldlabels[0], foldlabels[1],foldlabels[2],foldlabels[3],foldlabels[4],foldlabels[5],foldlabels[7],foldlabels[8],foldlabels[9]))\n",
    "\n",
    "clssvm.fit(foldtrain,foldlabelstrain )\n",
    "errors.append(clssvm.score(folds[6],foldlabels[6]))\n",
    "k = clssvm.predict(folds[6])\n",
    "print('accuracy = ' + str(clssvm.score(folds[6],foldlabels[6])))\n",
    "confus = confusion_matrix(foldlabels[6], k)\n",
    "print(confus)\n",
    "precision = confus[1][1] / (confus[1][1] + confus[0][1])\n",
    "print('precision = ' + str(precision))\n",
    "recall = confus[1][1] / (confus[1][1] + confus[1][0])\n",
    "print('recall = ' + str(recall))\n",
    "NPR = confus[0][0] / (confus[0][0] + confus[1][0])\n",
    "print('NPV = ' + str(NPR))\n",
    "FPR = confus[0][1] / (confus[0][1] + confus[0][0])\n",
    "print('FPR = ' + str(FPR))\n",
    "FDR = (confus[0][1] + confus[1][0] )/ (len(Ytrain))\n",
    "print('FDR = ' + str(FDR))\n",
    "\n",
    "foldtrain = np.concatenate((folds[0], folds[1],folds[2],folds[3],folds[4],folds[6],folds[7],folds[8],folds[9]))\n",
    "foldlabelstrain = np.concatenate((foldlabels[0], foldlabels[1],foldlabels[2],foldlabels[3],foldlabels[4],foldlabels[6],foldlabels[7],foldlabels[8],foldlabels[9]))\n",
    "\n",
    "clssvm.fit(foldtrain,foldlabelstrain )\n",
    "errors.append(clssvm.score(folds[5],foldlabels[5]))\n",
    "k = clssvm.predict(folds[5])\n",
    "print('accuracy = ' + str(clssvm.score(folds[5],foldlabels[5])))\n",
    "confus = confusion_matrix(foldlabels[5], k)\n",
    "print(confus)\n",
    "precision = confus[1][1] / (confus[1][1] + confus[0][1])\n",
    "print('precision = ' + str(precision))\n",
    "recall = confus[1][1] / (confus[1][1] + confus[1][0])\n",
    "print('recall = ' + str(recall))\n",
    "NPR = confus[0][0] / (confus[0][0] + confus[1][0])\n",
    "print('NPV = ' + str(NPR))\n",
    "FPR = confus[0][1] / (confus[0][1] + confus[0][0])\n",
    "print('FPR = ' + str(FPR))\n",
    "FDR = (confus[0][1] + confus[1][0] )/ (len(Ytrain))\n",
    "print('FDR = ' + str(FDR))\n",
    "\n",
    "foldtrain = np.concatenate((folds[0], folds[1],folds[2],folds[3],folds[5],folds[6],folds[7],folds[8],folds[9]))\n",
    "foldlabelstrain = np.concatenate((foldlabels[0], foldlabels[1],foldlabels[2],foldlabels[3],foldlabels[5],foldlabels[6],foldlabels[7],foldlabels[8],foldlabels[9]))\n",
    "\n",
    "clssvm.fit(foldtrain,foldlabelstrain )\n",
    "errors.append(clssvm.score(folds[4],foldlabels[4]))\n",
    "k = clssvm.predict(folds[4])\n",
    "print('accuracy = ' + str(clssvm.score(folds[4],foldlabels[4])))\n",
    "confus = confusion_matrix(foldlabels[4], k)\n",
    "print(confus)\n",
    "precision = confus[1][1] / (confus[1][1] + confus[0][1])\n",
    "print('precision = ' + str(precision))\n",
    "recall = confus[1][1] / (confus[1][1] + confus[1][0])\n",
    "print('recall = ' + str(recall))\n",
    "NPR = confus[0][0] / (confus[0][0] + confus[1][0])\n",
    "print('NPV = ' + str(NPR))\n",
    "FPR = confus[0][1] / (confus[0][1] + confus[0][0])\n",
    "print('FPR = ' + str(FPR))\n",
    "FDR = (confus[0][1] + confus[1][0] )/ (len(Ytrain))\n",
    "print('FDR = ' + str(FDR))\n",
    "\n",
    "\n",
    "foldtrain = np.concatenate((folds[0], folds[1],folds[2],folds[4],folds[5],folds[6],folds[7],folds[8],folds[9]))\n",
    "foldlabelstrain = np.concatenate((foldlabels[0], foldlabels[1],foldlabels[2],foldlabels[4],foldlabels[5],foldlabels[6],foldlabels[7],foldlabels[8],foldlabels[9]))\n",
    "\n",
    "clssvm.fit(foldtrain,foldlabelstrain )\n",
    "errors.append(clssvm.score(folds[3],foldlabels[3]))\n",
    "\n",
    "k = clssvm.predict(folds[3])\n",
    "print('accuracy = ' + str(clssvm.score(folds[3],foldlabels[3])))\n",
    "confus = confusion_matrix(foldlabels[3], k)\n",
    "print(confus)\n",
    "precision = confus[1][1] / (confus[1][1] + confus[0][1])\n",
    "print('precision = ' + str(precision))\n",
    "recall = confus[1][1] / (confus[1][1] + confus[1][0])\n",
    "print('recall = ' + str(recall))\n",
    "NPR = confus[0][0] / (confus[0][0] + confus[1][0])\n",
    "print('NPV = ' + str(NPR))\n",
    "FPR = confus[0][1] / (confus[0][1] + confus[0][0])\n",
    "print('FPR = ' + str(FPR))\n",
    "FDR = (confus[0][1] + confus[1][0] )/ (len(Ytrain))\n",
    "print('FDR = ' + str(FDR))\n",
    "\n",
    "foldtrain = np.concatenate((folds[0], folds[1],folds[3],folds[4],folds[5],folds[6],folds[7],folds[8],folds[9]))\n",
    "foldlabelstrain = np.concatenate((foldlabels[0], foldlabels[1],foldlabels[3],foldlabels[4],foldlabels[5],foldlabels[6],foldlabels[7],foldlabels[8],foldlabels[9]))\n",
    "\n",
    "clssvm.fit(foldtrain,foldlabelstrain )\n",
    "errors.append(clssvm.score(folds[2],foldlabels[2]))\n",
    "print('accuracy = ' + str(clssvm.score(folds[2],foldlabels[2])))\n",
    "k = clssvm.predict(folds[2])\n",
    "\n",
    "confus = confusion_matrix(foldlabels[2], k)\n",
    "print(confus)\n",
    "precision = confus[1][1] / (confus[1][1] + confus[0][1])\n",
    "print('precision = ' + str(precision))\n",
    "recall = confus[1][1] / (confus[1][1] + confus[1][0])\n",
    "print('recall = ' + str(recall))\n",
    "NPR = confus[0][0] / (confus[0][0] + confus[1][0])\n",
    "print('NPV = ' + str(NPR))\n",
    "FPR = confus[0][1] / (confus[0][1] + confus[0][0])\n",
    "print('FPR = ' + str(FPR))\n",
    "FDR = (confus[0][1] + confus[1][0] )/ (len(Ytrain))\n",
    "print('FDR = ' + str(FDR))\n",
    "\n",
    "foldtrain = np.concatenate((folds[0], folds[2],folds[3],folds[4],folds[5],folds[6],folds[7],folds[8],folds[9]))\n",
    "foldlabelstrain = np.concatenate((foldlabels[0], foldlabels[2],foldlabels[3],foldlabels[4],foldlabels[5],foldlabels[6],foldlabels[7],foldlabels[8],foldlabels[9]))\n",
    "\n",
    "clssvm.fit(foldtrain,foldlabelstrain )\n",
    "errors.append(clssvm.score(folds[1],foldlabels[1]))\n",
    "\n",
    "k = clssvm.predict(folds[1])\n",
    "print('accuracy = ' + str(clssvm.score(folds[1],foldlabels[1])))\n",
    "confus = confusion_matrix(foldlabels[1], k)\n",
    "print(confus)\n",
    "precision = confus[1][1] / (confus[1][1] + confus[0][1])\n",
    "print('precision = ' + str(precision))\n",
    "recall = confus[1][1] / (confus[1][1] + confus[1][0])\n",
    "print('recall = ' + str(recall))\n",
    "NPR = confus[0][0] / (confus[0][0] + confus[1][0])\n",
    "print('NPV = ' + str(NPR))\n",
    "FPR = confus[0][1] / (confus[0][1] + confus[0][0])\n",
    "print('FPR = ' + str(FPR))\n",
    "FDR = (confus[0][1] + confus[1][0] )/ (len(Ytrain))\n",
    "print('FDR = ' + str(FDR))\n",
    "\n",
    "foldtrain = np.concatenate((folds[1], folds[2],folds[3],folds[4],folds[5],folds[6],folds[7],folds[8],folds[9]))\n",
    "foldlabelstrain = np.concatenate((foldlabels[1], foldlabels[2],foldlabels[3],foldlabels[4],foldlabels[5],foldlabels[6],foldlabels[7],foldlabels[8],foldlabels[9]))\n",
    "\n",
    "clssvm.fit(foldtrain,foldlabelstrain )\n",
    "errors.append(clssvm.score(folds[0],foldlabels[0]))\n",
    "\n",
    "k = clssvm.predict(folds[0])\n",
    "print('accuracy = ' + str(clssvm.score(folds[0],foldlabels[0])))\n",
    "confus = confusion_matrix(foldlabels[0], k)\n",
    "print(confus)\n",
    "precision = confus[1][1] / (confus[1][1] + confus[0][1])\n",
    "print('precision = ' + str(precision))\n",
    "recall = confus[1][1] / (confus[1][1] + confus[1][0])\n",
    "print('recall = ' + str(recall))\n",
    "NPR = confus[0][0] / (confus[0][0] + confus[1][0])\n",
    "print('NPV = ' + str(NPR))\n",
    "FPR = confus[0][1] / (confus[0][1] + confus[0][0])\n",
    "print('FPR = ' + str(FPR))\n",
    "FDR = (confus[0][1] + confus[1][0] )/ (len(Ytrain))\n",
    "print('FDR = ' + str(FDR))\n",
    "\n",
    "errors = np.array(errors)\n",
    "meancverror = errors.sum()/10\n",
    "print('MEAN ERROR = ' + str(meancverror))"
   ]
  },
  {
   "cell_type": "code",
   "execution_count": 22,
   "metadata": {},
   "outputs": [
    {
     "data": {
      "text/plain": [
       "0.7469199769717904"
      ]
     },
     "execution_count": 22,
     "metadata": {},
     "output_type": "execute_result"
    }
   ],
   "source": [
    "#MEAN CROSS VALIDATION ERROR\n",
    "meancverror"
   ]
  },
  {
   "cell_type": "code",
   "execution_count": 24,
   "metadata": {},
   "outputs": [
    {
     "data": {
      "text/plain": [
       "array([1, 1, 1, ..., 0, 0, 0])"
      ]
     },
     "execution_count": 24,
     "metadata": {},
     "output_type": "execute_result"
    }
   ],
   "source": [
    "k = clssvm.predict(Xtest)\n",
    "k"
   ]
  },
  {
   "cell_type": "code",
   "execution_count": 29,
   "metadata": {},
   "outputs": [],
   "source": [
    "clssvm = svm.SVC(kernel='rbf')"
   ]
  },
  {
   "cell_type": "markdown",
   "metadata": {},
   "source": [
    "BELOW CELL IS FOR RBF KERNEL SVM 10 FOLD CV"
   ]
  },
  {
   "cell_type": "code",
   "execution_count": 31,
   "metadata": {},
   "outputs": [
    {
     "name": "stderr",
     "output_type": "stream",
     "text": [
      "C:\\Users\\tahir\\AppData\\Local\\Continuum\\anaconda3\\lib\\site-packages\\sklearn\\utils\\validation.py:761: DataConversionWarning: A column-vector y was passed when a 1d array was expected. Please change the shape of y to (n_samples, ), for example using ravel().\n",
      "  y = column_or_1d(y, warn=True)\n",
      "C:\\Users\\tahir\\AppData\\Local\\Continuum\\anaconda3\\lib\\site-packages\\sklearn\\svm\\base.py:196: FutureWarning: The default value of gamma will change from 'auto' to 'scale' in version 0.22 to account better for unscaled features. Set gamma explicitly to 'auto' or 'scale' to avoid this warning.\n",
      "  \"avoid this warning.\", FutureWarning)\n"
     ]
    },
    {
     "name": "stdout",
     "output_type": "stream",
     "text": [
      "accuracy = 0.8606793321819228\n",
      "[[1034  130]\n",
      " [ 112  461]]\n",
      "precision = 0.7800338409475466\n",
      "recall = 0.8045375218150087\n",
      "NPV = 0.9022687609075044\n",
      "FPR = 0.11168384879725086\n",
      "FDR = 0.017285714285714286\n"
     ]
    },
    {
     "name": "stderr",
     "output_type": "stream",
     "text": [
      "C:\\Users\\tahir\\AppData\\Local\\Continuum\\anaconda3\\lib\\site-packages\\sklearn\\utils\\validation.py:761: DataConversionWarning: A column-vector y was passed when a 1d array was expected. Please change the shape of y to (n_samples, ), for example using ravel().\n",
      "  y = column_or_1d(y, warn=True)\n",
      "C:\\Users\\tahir\\AppData\\Local\\Continuum\\anaconda3\\lib\\site-packages\\sklearn\\svm\\base.py:196: FutureWarning: The default value of gamma will change from 'auto' to 'scale' in version 0.22 to account better for unscaled features. Set gamma explicitly to 'auto' or 'scale' to avoid this warning.\n",
      "  \"avoid this warning.\", FutureWarning)\n"
     ]
    },
    {
     "name": "stdout",
     "output_type": "stream",
     "text": [
      "accuracy = 0.9107656879677605\n",
      "[[740  84]\n",
      " [ 71 842]]\n",
      "precision = 0.9092872570194385\n",
      "recall = 0.9222343921139102\n",
      "NPV = 0.9124537607891492\n",
      "FPR = 0.10194174757281553\n",
      "FDR = 0.01107142857142857\n"
     ]
    },
    {
     "name": "stderr",
     "output_type": "stream",
     "text": [
      "C:\\Users\\tahir\\AppData\\Local\\Continuum\\anaconda3\\lib\\site-packages\\sklearn\\utils\\validation.py:761: DataConversionWarning: A column-vector y was passed when a 1d array was expected. Please change the shape of y to (n_samples, ), for example using ravel().\n",
      "  y = column_or_1d(y, warn=True)\n",
      "C:\\Users\\tahir\\AppData\\Local\\Continuum\\anaconda3\\lib\\site-packages\\sklearn\\svm\\base.py:196: FutureWarning: The default value of gamma will change from 'auto' to 'scale' in version 0.22 to account better for unscaled features. Set gamma explicitly to 'auto' or 'scale' to avoid this warning.\n",
      "  \"avoid this warning.\", FutureWarning)\n"
     ]
    },
    {
     "name": "stdout",
     "output_type": "stream",
     "text": [
      "accuracy = 0.8929188255613126\n",
      "[[610  26]\n",
      " [160 941]]\n",
      "precision = 0.9731127197518097\n",
      "recall = 0.8546775658492279\n",
      "NPV = 0.7922077922077922\n",
      "FPR = 0.040880503144654086\n",
      "FDR = 0.013285714285714286\n"
     ]
    },
    {
     "name": "stderr",
     "output_type": "stream",
     "text": [
      "C:\\Users\\tahir\\AppData\\Local\\Continuum\\anaconda3\\lib\\site-packages\\sklearn\\utils\\validation.py:761: DataConversionWarning: A column-vector y was passed when a 1d array was expected. Please change the shape of y to (n_samples, ), for example using ravel().\n",
      "  y = column_or_1d(y, warn=True)\n",
      "C:\\Users\\tahir\\AppData\\Local\\Continuum\\anaconda3\\lib\\site-packages\\sklearn\\svm\\base.py:196: FutureWarning: The default value of gamma will change from 'auto' to 'scale' in version 0.22 to account better for unscaled features. Set gamma explicitly to 'auto' or 'scale' to avoid this warning.\n",
      "  \"avoid this warning.\", FutureWarning)\n"
     ]
    },
    {
     "name": "stdout",
     "output_type": "stream",
     "text": [
      "accuracy = 0.7748992515831894\n",
      "[[731  15]\n",
      " [376 615]]\n",
      "precision = 0.9761904761904762\n",
      "recall = 0.62058526740666\n",
      "NPV = 0.6603432700993677\n",
      "FPR = 0.020107238605898123\n",
      "FDR = 0.027928571428571428\n"
     ]
    },
    {
     "name": "stderr",
     "output_type": "stream",
     "text": [
      "C:\\Users\\tahir\\AppData\\Local\\Continuum\\anaconda3\\lib\\site-packages\\sklearn\\utils\\validation.py:761: DataConversionWarning: A column-vector y was passed when a 1d array was expected. Please change the shape of y to (n_samples, ), for example using ravel().\n",
      "  y = column_or_1d(y, warn=True)\n",
      "C:\\Users\\tahir\\AppData\\Local\\Continuum\\anaconda3\\lib\\site-packages\\sklearn\\svm\\base.py:196: FutureWarning: The default value of gamma will change from 'auto' to 'scale' in version 0.22 to account better for unscaled features. Set gamma explicitly to 'auto' or 'scale' to avoid this warning.\n",
      "  \"avoid this warning.\", FutureWarning)\n"
     ]
    },
    {
     "name": "stdout",
     "output_type": "stream",
     "text": [
      "accuracy = 0.6948762233736328\n",
      "[[1126    0]\n",
      " [ 530   81]]\n",
      "precision = 1.0\n",
      "recall = 0.132569558101473\n",
      "NPV = 0.6799516908212561\n",
      "FPR = 0.0\n",
      "FDR = 0.03785714285714286\n"
     ]
    },
    {
     "name": "stderr",
     "output_type": "stream",
     "text": [
      "C:\\Users\\tahir\\AppData\\Local\\Continuum\\anaconda3\\lib\\site-packages\\sklearn\\utils\\validation.py:761: DataConversionWarning: A column-vector y was passed when a 1d array was expected. Please change the shape of y to (n_samples, ), for example using ravel().\n",
      "  y = column_or_1d(y, warn=True)\n",
      "C:\\Users\\tahir\\AppData\\Local\\Continuum\\anaconda3\\lib\\site-packages\\sklearn\\svm\\base.py:196: FutureWarning: The default value of gamma will change from 'auto' to 'scale' in version 0.22 to account better for unscaled features. Set gamma explicitly to 'auto' or 'scale' to avoid this warning.\n",
      "  \"avoid this warning.\", FutureWarning)\n"
     ]
    },
    {
     "name": "stdout",
     "output_type": "stream",
     "text": [
      "accuracy = 0.8572251007484168\n",
      "[[1064  151]\n",
      " [  97  425]]\n",
      "precision = 0.7378472222222222\n",
      "recall = 0.814176245210728\n",
      "NPV = 0.9164513350559862\n",
      "FPR = 0.1242798353909465\n",
      "FDR = 0.017714285714285714\n"
     ]
    },
    {
     "name": "stderr",
     "output_type": "stream",
     "text": [
      "C:\\Users\\tahir\\AppData\\Local\\Continuum\\anaconda3\\lib\\site-packages\\sklearn\\utils\\validation.py:761: DataConversionWarning: A column-vector y was passed when a 1d array was expected. Please change the shape of y to (n_samples, ), for example using ravel().\n",
      "  y = column_or_1d(y, warn=True)\n",
      "C:\\Users\\tahir\\AppData\\Local\\Continuum\\anaconda3\\lib\\site-packages\\sklearn\\svm\\base.py:196: FutureWarning: The default value of gamma will change from 'auto' to 'scale' in version 0.22 to account better for unscaled features. Set gamma explicitly to 'auto' or 'scale' to avoid this warning.\n",
      "  \"avoid this warning.\", FutureWarning)\n"
     ]
    },
    {
     "name": "stdout",
     "output_type": "stream",
     "text": [
      "accuracy = 0.8635578583765112\n",
      "[[746 208]\n",
      " [ 29 754]]\n",
      "precision = 0.7837837837837838\n",
      "recall = 0.9629629629629629\n",
      "NPV = 0.9625806451612903\n",
      "FPR = 0.2180293501048218\n",
      "FDR = 0.016928571428571428\n"
     ]
    },
    {
     "name": "stderr",
     "output_type": "stream",
     "text": [
      "C:\\Users\\tahir\\AppData\\Local\\Continuum\\anaconda3\\lib\\site-packages\\sklearn\\utils\\validation.py:761: DataConversionWarning: A column-vector y was passed when a 1d array was expected. Please change the shape of y to (n_samples, ), for example using ravel().\n",
      "  y = column_or_1d(y, warn=True)\n",
      "C:\\Users\\tahir\\AppData\\Local\\Continuum\\anaconda3\\lib\\site-packages\\sklearn\\svm\\base.py:196: FutureWarning: The default value of gamma will change from 'auto' to 'scale' in version 0.22 to account better for unscaled features. Set gamma explicitly to 'auto' or 'scale' to avoid this warning.\n",
      "  \"avoid this warning.\", FutureWarning)\n"
     ]
    },
    {
     "name": "stdout",
     "output_type": "stream",
     "text": [
      "accuracy = 0.8324697754749568\n",
      "[[634 284]\n",
      " [  7 812]]\n",
      "precision = 0.7408759124087592\n",
      "recall = 0.9914529914529915\n",
      "NPV = 0.9890795631825273\n",
      "FPR = 0.3093681917211329\n",
      "FDR = 0.020785714285714286\n"
     ]
    },
    {
     "name": "stderr",
     "output_type": "stream",
     "text": [
      "C:\\Users\\tahir\\AppData\\Local\\Continuum\\anaconda3\\lib\\site-packages\\sklearn\\utils\\validation.py:761: DataConversionWarning: A column-vector y was passed when a 1d array was expected. Please change the shape of y to (n_samples, ), for example using ravel().\n",
      "  y = column_or_1d(y, warn=True)\n",
      "C:\\Users\\tahir\\AppData\\Local\\Continuum\\anaconda3\\lib\\site-packages\\sklearn\\svm\\base.py:196: FutureWarning: The default value of gamma will change from 'auto' to 'scale' in version 0.22 to account better for unscaled features. Set gamma explicitly to 'auto' or 'scale' to avoid this warning.\n",
      "  \"avoid this warning.\", FutureWarning)\n"
     ]
    },
    {
     "name": "stdout",
     "output_type": "stream",
     "text": [
      "accuracy = 0.7812320092112838\n",
      "[[776 375]\n",
      " [  5 581]]\n",
      "precision = 0.6077405857740585\n",
      "recall = 0.9914675767918089\n",
      "NPV = 0.9935979513444302\n",
      "FPR = 0.32580364900086883\n",
      "FDR = 0.027142857142857142\n"
     ]
    },
    {
     "name": "stderr",
     "output_type": "stream",
     "text": [
      "C:\\Users\\tahir\\AppData\\Local\\Continuum\\anaconda3\\lib\\site-packages\\sklearn\\utils\\validation.py:761: DataConversionWarning: A column-vector y was passed when a 1d array was expected. Please change the shape of y to (n_samples, ), for example using ravel().\n",
      "  y = column_or_1d(y, warn=True)\n",
      "C:\\Users\\tahir\\AppData\\Local\\Continuum\\anaconda3\\lib\\site-packages\\sklearn\\svm\\base.py:196: FutureWarning: The default value of gamma will change from 'auto' to 'scale' in version 0.22 to account better for unscaled features. Set gamma explicitly to 'auto' or 'scale' to avoid this warning.\n",
      "  \"avoid this warning.\", FutureWarning)\n"
     ]
    },
    {
     "name": "stdout",
     "output_type": "stream",
     "text": [
      "accuracy = 0.7265400115141047\n",
      "[[1139  468]\n",
      " [   7  123]]\n",
      "precision = 0.20812182741116753\n",
      "recall = 0.9461538461538461\n",
      "NPV = 0.993891797556719\n",
      "FPR = 0.2912258867454885\n",
      "FDR = 0.033928571428571426\n",
      "MEAN ERROR = 0.8195164075993091\n"
     ]
    }
   ],
   "source": [
    "errors = []\n",
    "foldtrain = np.concatenate((folds[0], folds[1],folds[2],folds[3],folds[4],folds[5],folds[6],folds[7],folds[8]))\n",
    "foldlabelstrain = np.concatenate((foldlabels[0], foldlabels[1],foldlabels[2],foldlabels[3],foldlabels[4],foldlabels[5],foldlabels[6],foldlabels[7],foldlabels[8]))\n",
    "\n",
    "clssvm.fit(foldtrain,foldlabelstrain )\n",
    "print('accuracy = ' + str(clssvm.score(folds[9],foldlabels[9])))\n",
    "errors.append(clssvm.score(folds[9],foldlabels[9]))\n",
    "k = clssvm.predict(folds[9])\n",
    "\n",
    "confus = confusion_matrix(foldlabels[9], k)\n",
    "print(confus)\n",
    "precision = confus[1][1] / (confus[1][1] + confus[0][1])\n",
    "print('precision = ' + str(precision))\n",
    "recall = confus[1][1] / (confus[1][1] + confus[1][0])\n",
    "print('recall = ' + str(recall))\n",
    "NPR = confus[0][0] / (confus[0][0] + confus[1][0])\n",
    "print('NPV = ' + str(NPR))\n",
    "FPR = confus[0][1] / (confus[0][1] + confus[0][0])\n",
    "print('FPR = ' + str(FPR))\n",
    "FDR = (confus[0][1] + confus[1][0] )/ (len(Ytrain))\n",
    "print('FDR = ' + str(FDR))\n",
    "\n",
    "foldtrain = np.concatenate((folds[0], folds[1],folds[2],folds[3],folds[4],folds[5],folds[6],folds[7],folds[9]))\n",
    "foldlabelstrain = np.concatenate((foldlabels[0], foldlabels[1],foldlabels[2],foldlabels[3],foldlabels[4],foldlabels[5],foldlabels[6],foldlabels[7],foldlabels[9]))\n",
    "\n",
    "clssvm.fit(foldtrain,foldlabelstrain )\n",
    "errors.append(clssvm.score(folds[8],foldlabels[8]))\n",
    "k = clssvm.predict(folds[8])\n",
    "print('accuracy = ' + str(clssvm.score(folds[8],foldlabels[8])))\n",
    "confus = confusion_matrix(foldlabels[8], k)\n",
    "print(confus)\n",
    "precision = confus[1][1] / (confus[1][1] + confus[0][1])\n",
    "print('precision = ' + str(precision))\n",
    "recall = confus[1][1] / (confus[1][1] + confus[1][0])\n",
    "print('recall = ' + str(recall))\n",
    "NPR = confus[0][0] / (confus[0][0] + confus[1][0])\n",
    "print('NPV = ' + str(NPR))\n",
    "FPR = confus[0][1] / (confus[0][1] + confus[0][0])\n",
    "print('FPR = ' + str(FPR))\n",
    "FDR = (confus[0][1] + confus[1][0] )/ (len(Ytrain))\n",
    "print('FDR = ' + str(FDR))\n",
    "\n",
    "\n",
    "foldtrain = np.concatenate((folds[0], folds[1],folds[2],folds[3],folds[4],folds[5],folds[6],folds[8],folds[9]))\n",
    "foldlabelstrain = np.concatenate((foldlabels[0], foldlabels[1],foldlabels[2],foldlabels[3],foldlabels[4],foldlabels[5],foldlabels[6],foldlabels[8],foldlabels[9]))\n",
    "\n",
    "clssvm.fit(foldtrain,foldlabelstrain )\n",
    "errors.append(clssvm.score(folds[7],foldlabels[7]))\n",
    "k = clssvm.predict(folds[7])\n",
    "print('accuracy = ' + str(clssvm.score(folds[7],foldlabels[7])))\n",
    "confus = confusion_matrix(foldlabels[7], k)\n",
    "print(confus)\n",
    "precision = confus[1][1] / (confus[1][1] + confus[0][1])\n",
    "print('precision = ' + str(precision))\n",
    "recall = confus[1][1] / (confus[1][1] + confus[1][0])\n",
    "print('recall = ' + str(recall))\n",
    "NPR = confus[0][0] / (confus[0][0] + confus[1][0])\n",
    "print('NPV = ' + str(NPR))\n",
    "FPR = confus[0][1] / (confus[0][1] + confus[0][0])\n",
    "print('FPR = ' + str(FPR))\n",
    "FDR = (confus[0][1] + confus[1][0] )/ (len(Ytrain))\n",
    "print('FDR = ' + str(FDR))\n",
    "\n",
    "foldtrain = np.concatenate((folds[0], folds[1],folds[2],folds[3],folds[4],folds[5],folds[7],folds[8],folds[9]))\n",
    "foldlabelstrain = np.concatenate((foldlabels[0], foldlabels[1],foldlabels[2],foldlabels[3],foldlabels[4],foldlabels[5],foldlabels[7],foldlabels[8],foldlabels[9]))\n",
    "\n",
    "clssvm.fit(foldtrain,foldlabelstrain )\n",
    "errors.append(clssvm.score(folds[6],foldlabels[6]))\n",
    "k = clssvm.predict(folds[6])\n",
    "print('accuracy = ' + str(clssvm.score(folds[6],foldlabels[6])))\n",
    "confus = confusion_matrix(foldlabels[6], k)\n",
    "print(confus)\n",
    "precision = confus[1][1] / (confus[1][1] + confus[0][1])\n",
    "print('precision = ' + str(precision))\n",
    "recall = confus[1][1] / (confus[1][1] + confus[1][0])\n",
    "print('recall = ' + str(recall))\n",
    "NPR = confus[0][0] / (confus[0][0] + confus[1][0])\n",
    "print('NPV = ' + str(NPR))\n",
    "FPR = confus[0][1] / (confus[0][1] + confus[0][0])\n",
    "print('FPR = ' + str(FPR))\n",
    "FDR = (confus[0][1] + confus[1][0] )/ (len(Ytrain))\n",
    "print('FDR = ' + str(FDR))\n",
    "\n",
    "foldtrain = np.concatenate((folds[0], folds[1],folds[2],folds[3],folds[4],folds[6],folds[7],folds[8],folds[9]))\n",
    "foldlabelstrain = np.concatenate((foldlabels[0], foldlabels[1],foldlabels[2],foldlabels[3],foldlabels[4],foldlabels[6],foldlabels[7],foldlabels[8],foldlabels[9]))\n",
    "\n",
    "clssvm.fit(foldtrain,foldlabelstrain )\n",
    "errors.append(clssvm.score(folds[5],foldlabels[5]))\n",
    "k = clssvm.predict(folds[5])\n",
    "print('accuracy = ' + str(clssvm.score(folds[5],foldlabels[5])))\n",
    "confus = confusion_matrix(foldlabels[5], k)\n",
    "print(confus)\n",
    "precision = confus[1][1] / (confus[1][1] + confus[0][1])\n",
    "print('precision = ' + str(precision))\n",
    "recall = confus[1][1] / (confus[1][1] + confus[1][0])\n",
    "print('recall = ' + str(recall))\n",
    "NPR = confus[0][0] / (confus[0][0] + confus[1][0])\n",
    "print('NPV = ' + str(NPR))\n",
    "FPR = confus[0][1] / (confus[0][1] + confus[0][0])\n",
    "print('FPR = ' + str(FPR))\n",
    "FDR = (confus[0][1] + confus[1][0] )/ (len(Ytrain))\n",
    "print('FDR = ' + str(FDR))\n",
    "\n",
    "foldtrain = np.concatenate((folds[0], folds[1],folds[2],folds[3],folds[5],folds[6],folds[7],folds[8],folds[9]))\n",
    "foldlabelstrain = np.concatenate((foldlabels[0], foldlabels[1],foldlabels[2],foldlabels[3],foldlabels[5],foldlabels[6],foldlabels[7],foldlabels[8],foldlabels[9]))\n",
    "\n",
    "clssvm.fit(foldtrain,foldlabelstrain )\n",
    "errors.append(clssvm.score(folds[4],foldlabels[4]))\n",
    "k = clssvm.predict(folds[4])\n",
    "print('accuracy = ' + str(clssvm.score(folds[4],foldlabels[4])))\n",
    "confus = confusion_matrix(foldlabels[4], k)\n",
    "print(confus)\n",
    "precision = confus[1][1] / (confus[1][1] + confus[0][1])\n",
    "print('precision = ' + str(precision))\n",
    "recall = confus[1][1] / (confus[1][1] + confus[1][0])\n",
    "print('recall = ' + str(recall))\n",
    "NPR = confus[0][0] / (confus[0][0] + confus[1][0])\n",
    "print('NPV = ' + str(NPR))\n",
    "FPR = confus[0][1] / (confus[0][1] + confus[0][0])\n",
    "print('FPR = ' + str(FPR))\n",
    "FDR = (confus[0][1] + confus[1][0] )/ (len(Ytrain))\n",
    "print('FDR = ' + str(FDR))\n",
    "\n",
    "\n",
    "foldtrain = np.concatenate((folds[0], folds[1],folds[2],folds[4],folds[5],folds[6],folds[7],folds[8],folds[9]))\n",
    "foldlabelstrain = np.concatenate((foldlabels[0], foldlabels[1],foldlabels[2],foldlabels[4],foldlabels[5],foldlabels[6],foldlabels[7],foldlabels[8],foldlabels[9]))\n",
    "\n",
    "clssvm.fit(foldtrain,foldlabelstrain )\n",
    "errors.append(clssvm.score(folds[3],foldlabels[3]))\n",
    "\n",
    "k = clssvm.predict(folds[3])\n",
    "print('accuracy = ' + str(clssvm.score(folds[3],foldlabels[3])))\n",
    "confus = confusion_matrix(foldlabels[3], k)\n",
    "print(confus)\n",
    "precision = confus[1][1] / (confus[1][1] + confus[0][1])\n",
    "print('precision = ' + str(precision))\n",
    "recall = confus[1][1] / (confus[1][1] + confus[1][0])\n",
    "print('recall = ' + str(recall))\n",
    "NPR = confus[0][0] / (confus[0][0] + confus[1][0])\n",
    "print('NPV = ' + str(NPR))\n",
    "FPR = confus[0][1] / (confus[0][1] + confus[0][0])\n",
    "print('FPR = ' + str(FPR))\n",
    "FDR = (confus[0][1] + confus[1][0] )/ (len(Ytrain))\n",
    "print('FDR = ' + str(FDR))\n",
    "\n",
    "foldtrain = np.concatenate((folds[0], folds[1],folds[3],folds[4],folds[5],folds[6],folds[7],folds[8],folds[9]))\n",
    "foldlabelstrain = np.concatenate((foldlabels[0], foldlabels[1],foldlabels[3],foldlabels[4],foldlabels[5],foldlabels[6],foldlabels[7],foldlabels[8],foldlabels[9]))\n",
    "\n",
    "clssvm.fit(foldtrain,foldlabelstrain )\n",
    "errors.append(clssvm.score(folds[2],foldlabels[2]))\n",
    "print('accuracy = ' + str(clssvm.score(folds[2],foldlabels[2])))\n",
    "k = clssvm.predict(folds[2])\n",
    "\n",
    "confus = confusion_matrix(foldlabels[2], k)\n",
    "print(confus)\n",
    "precision = confus[1][1] / (confus[1][1] + confus[0][1])\n",
    "print('precision = ' + str(precision))\n",
    "recall = confus[1][1] / (confus[1][1] + confus[1][0])\n",
    "print('recall = ' + str(recall))\n",
    "NPR = confus[0][0] / (confus[0][0] + confus[1][0])\n",
    "print('NPV = ' + str(NPR))\n",
    "FPR = confus[0][1] / (confus[0][1] + confus[0][0])\n",
    "print('FPR = ' + str(FPR))\n",
    "FDR = (confus[0][1] + confus[1][0] )/ (len(Ytrain))\n",
    "print('FDR = ' + str(FDR))\n",
    "\n",
    "foldtrain = np.concatenate((folds[0], folds[2],folds[3],folds[4],folds[5],folds[6],folds[7],folds[8],folds[9]))\n",
    "foldlabelstrain = np.concatenate((foldlabels[0], foldlabels[2],foldlabels[3],foldlabels[4],foldlabels[5],foldlabels[6],foldlabels[7],foldlabels[8],foldlabels[9]))\n",
    "\n",
    "clssvm.fit(foldtrain,foldlabelstrain )\n",
    "errors.append(clssvm.score(folds[1],foldlabels[1]))\n",
    "\n",
    "k = clssvm.predict(folds[1])\n",
    "print('accuracy = ' + str(clssvm.score(folds[1],foldlabels[1])))\n",
    "confus = confusion_matrix(foldlabels[1], k)\n",
    "print(confus)\n",
    "precision = confus[1][1] / (confus[1][1] + confus[0][1])\n",
    "print('precision = ' + str(precision))\n",
    "recall = confus[1][1] / (confus[1][1] + confus[1][0])\n",
    "print('recall = ' + str(recall))\n",
    "NPR = confus[0][0] / (confus[0][0] + confus[1][0])\n",
    "print('NPV = ' + str(NPR))\n",
    "FPR = confus[0][1] / (confus[0][1] + confus[0][0])\n",
    "print('FPR = ' + str(FPR))\n",
    "FDR = (confus[0][1] + confus[1][0] )/ (len(Ytrain))\n",
    "print('FDR = ' + str(FDR))\n",
    "\n",
    "foldtrain = np.concatenate((folds[1], folds[2],folds[3],folds[4],folds[5],folds[6],folds[7],folds[8],folds[9]))\n",
    "foldlabelstrain = np.concatenate((foldlabels[1], foldlabels[2],foldlabels[3],foldlabels[4],foldlabels[5],foldlabels[6],foldlabels[7],foldlabels[8],foldlabels[9]))\n",
    "\n",
    "clssvm.fit(foldtrain,foldlabelstrain )\n",
    "errors.append(clssvm.score(folds[0],foldlabels[0]))\n",
    "\n",
    "k = clssvm.predict(folds[0])\n",
    "print('accuracy = ' + str(clssvm.score(folds[0],foldlabels[0])))\n",
    "confus = confusion_matrix(foldlabels[0], k)\n",
    "print(confus)\n",
    "precision = confus[1][1] / (confus[1][1] + confus[0][1])\n",
    "print('precision = ' + str(precision))\n",
    "recall = confus[1][1] / (confus[1][1] + confus[1][0])\n",
    "print('recall = ' + str(recall))\n",
    "NPR = confus[0][0] / (confus[0][0] + confus[1][0])\n",
    "print('NPV = ' + str(NPR))\n",
    "FPR = confus[0][1] / (confus[0][1] + confus[0][0])\n",
    "print('FPR = ' + str(FPR))\n",
    "FDR = (confus[0][1] + confus[1][0] )/ (len(Ytrain))\n",
    "print('FDR = ' + str(FDR))\n",
    "\n",
    "errors = np.array(errors)\n",
    "meancverror = errors.sum()/10\n",
    "print('MEAN ERROR = ' + str(meancverror))"
   ]
  },
  {
   "cell_type": "code",
   "execution_count": null,
   "metadata": {},
   "outputs": [],
   "source": []
  },
  {
   "cell_type": "code",
   "execution_count": null,
   "metadata": {},
   "outputs": [],
   "source": []
  }
 ],
 "metadata": {
  "kernelspec": {
   "display_name": "Python 3",
   "language": "python",
   "name": "python3"
  },
  "language_info": {
   "codemirror_mode": {
    "name": "ipython",
    "version": 3
   },
   "file_extension": ".py",
   "mimetype": "text/x-python",
   "name": "python",
   "nbconvert_exporter": "python",
   "pygments_lexer": "ipython3",
   "version": "3.7.1"
  }
 },
 "nbformat": 4,
 "nbformat_minor": 2
}
