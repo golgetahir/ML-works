{
 "cells": [
  {
   "cell_type": "code",
   "execution_count": 2,
   "metadata": {
    "colab": {},
    "colab_type": "code",
    "id": "muUVvDaSdgeY"
   },
   "outputs": [],
   "source": [
    "import pandas as pd\n",
    "import numpy as np\n",
    "import pickle\n",
    "from sklearn.preprocessing import StandardScaler\n",
    "import plotly.plotly as py\n",
    "import matplotlib.pyplot as plt\n",
    "import seaborn as sbn\n",
    "from sklearn.decomposition import PCA as pc\n"
   ]
  },
  {
   "cell_type": "code",
   "execution_count": 12,
   "metadata": {
    "colab": {},
    "colab_type": "code",
    "id": "kinNgvIDdged"
   },
   "outputs": [],
   "source": [
    "TrainDf = pd.read_csv('aps_failure_training_set_processed_8bit.csv')\n",
    "X_all = TrainDf.drop('class',axis=1)\n",
    "Y = TrainDf['class']\n",
    "Y = Y.round()\n",
    "Y = Y.replace(to_replace=-1,value=0)\n",
    "\n",
    "Test = pd.read_csv('aps_failure_test_set_processed_8bit.csv')\n",
    "TestFe = Test.drop('class',axis=1)\n",
    "TestL = Test['class']\n",
    "TestL = TestL.round()\n",
    "TestL = TestL.replace(to_replace=-1,value=0)"
   ]
  },
  {
   "cell_type": "code",
   "execution_count": 4,
   "metadata": {
    "colab": {},
    "colab_type": "code",
    "id": "cWUDluX7dgeg"
   },
   "outputs": [],
   "source": [
    "X_std = StandardScaler().fit_transform(X_all)\n",
    "pca_ = pc(n_components=13)\n",
    "X = pca_.fit_transform(X_std)\n",
    "TestLstd = StandardScaler().fit_transform(TestFe)\n",
    "Xtest = pca_.fit_transform(TestLstd)"
   ]
  },
  {
   "cell_type": "code",
   "execution_count": 5,
   "metadata": {
    "colab": {},
    "colab_type": "code",
    "id": "66Sajmf_dgej"
   },
   "outputs": [],
   "source": [
    "def PCA(X_all):\n",
    "    X_std = StandardScaler().fit_transform(X_all)\n",
    "    covM = np.cov(X_std.T)\n",
    "    eigvalues, eigvectors = np.linalg.eig(covM)\n",
    "    eig_pairs = [(np.abs(eigvalues[i]), eigvectors[:,i]) for i in range(len(eigvalues))]\n",
    "    eig_pairs.sort()\n",
    "    eig_pairs.reverse()\n",
    "    matrix_w = np.hstack((eig_pairs[0][1].reshape(170,1), \n",
    "                      eig_pairs[1][1].reshape(170,1),\n",
    "                      eig_pairs[2][1].reshape(170,1), \n",
    "                      eig_pairs[3][1].reshape(170,1),\n",
    "                      eig_pairs[4][1].reshape(170,1), \n",
    "                      eig_pairs[5][1].reshape(170,1),\n",
    "                      eig_pairs[6][1].reshape(170,1), \n",
    "                      eig_pairs[7][1].reshape(170,1),\n",
    "                      eig_pairs[8][1].reshape(170,1), \n",
    "                      eig_pairs[9][1].reshape(170,1),\n",
    "                      eig_pairs[10][1].reshape(170,1), \n",
    "                      eig_pairs[11][1].reshape(170,1),\n",
    "                      eig_pairs[12][1].reshape(170,1), \n",
    "                      ))\n",
    "    ProjX = X_std.dot(matrix_w)\n",
    "    return ProjX"
   ]
  },
  {
   "cell_type": "code",
   "execution_count": 6,
   "metadata": {
    "colab": {},
    "colab_type": "code",
    "id": "dNfqU-CWdger"
   },
   "outputs": [],
   "source": [
    "import math"
   ]
  },
  {
   "cell_type": "code",
   "execution_count": 7,
   "metadata": {
    "colab": {},
    "colab_type": "code",
    "id": "XkpNdp2fdgfD"
   },
   "outputs": [],
   "source": [
    "from sklearn.metrics import confusion_matrix"
   ]
  },
  {
   "cell_type": "code",
   "execution_count": 18,
   "metadata": {
    "colab": {},
    "colab_type": "code",
    "id": "VyUTMvS1dgfG"
   },
   "outputs": [],
   "source": [
    "\n",
    "confus = confusion_matrix(TestL[:3000], predictions)"
   ]
  },
  {
   "cell_type": "code",
   "execution_count": 21,
   "metadata": {
    "colab": {
     "base_uri": "https://localhost:8080/",
     "height": 51
    },
    "colab_type": "code",
    "id": "LLZdrOXK0gEg",
    "outputId": "83acdbab-4636-4da1-d23f-33914a76f2b2"
   },
   "outputs": [
    {
     "data": {
      "image/png": "[encoded data removed]",
      "text/plain": [
       "<Figure size 432x288 with 2 Axes>"
      ]
     },
     "metadata": {},
     "output_type": "display_data"
    }
   ],
   "source": [
    "sbn.set(font_scale=1.3)\n",
    "a = sbn.heatmap(confus, annot=True,annot_kws={\"size\": 11})\n",
    "a.set(xlabel='predicted', ylabel='true')\n",
    "figure = a.get_figure()  \n",
    "figure.savefig('knnconfus.png')"
   ]
  },
  {
   "cell_type": "code",
   "execution_count": 0,
   "metadata": {
    "colab": {},
    "colab_type": "code",
    "id": "RKzcUBPtdgfk"
   },
   "outputs": [],
   "source": [
    "for i in range(len(a)):\n",
    "  if(a[i] != 0.5):\n",
    "    a[i] = a[i].round()\n",
    "  else:\n",
    "    a[i] = 0"
   ]
  },
  {
   "cell_type": "code",
   "execution_count": 0,
   "metadata": {
    "colab": {},
    "colab_type": "code",
    "id": "4py74_xHmUju"
   },
   "outputs": [],
   "source": [
    "Xdownsampled = X[:1000]\n",
    "Ydownsampled = Y[:1000]\n",
    "Xtestdown = Xtest[:1000]"
   ]
  },
  {
   "cell_type": "code",
   "execution_count": 10,
   "metadata": {
    "colab": {},
    "colab_type": "code",
    "id": "21_GD5z-nHLc"
   },
   "outputs": [],
   "source": [
    "import operator\n",
    "def dist(x,y, length):\n",
    "    dist = 0.0\n",
    "    for i in range(length):\n",
    "        dist += pow(float(x[i])- float(y[i]),2)\n",
    "    return dist**dist\n",
    "def Neighbors(X, Y, k):\n",
    "    all_distance = []\n",
    "    length = len(Y)-1\n",
    "    for x in range(len(X)):\n",
    "        dist = dist(Y, X[x], length)\n",
    "        distances.append((X[x], dist))\n",
    "    all_distance.sort(key=operator.itemgetter(1))\n",
    "    neighbors = []\n",
    "    for x in range(k):\n",
    "        neighbors.append(distances[x][0])\n",
    "    return neighbors\n",
    "\n",
    "def Response(neighbors):\n",
    "    Votes = {}\n",
    "    for x in range(len(neighbors)):\n",
    "        response = neighbors[x][-1]\n",
    "        if response in Votes:\n",
    "            Votes[response] += 1\n",
    "        else:\n",
    "            Votes[response] = 1\n",
    "        sortedVotes = sorted(classVotes.items(), key=operator.itemgetter(1), reverse=True)\n",
    "    return sortedVotes[0][0]"
   ]
  },
  {
   "cell_type": "code",
   "execution_count": 14,
   "metadata": {
    "colab": {
     "base_uri": "https://localhost:8080/",
     "height": 469
    },
    "colab_type": "code",
    "id": "YUMBNAhLa_B1",
    "outputId": "72d54c79-0d22-4399-dd5b-378699f3ee38"
   },
   "outputs": [
    {
     "ename": "IndexError",
     "evalue": "index 3000 is out of bounds for axis 0 with size 3000",
     "output_type": "error",
     "traceback": [
      "\u001b[1;31m---------------------------------------------------------------------------\u001b[0m",
      "\u001b[1;31mIndexError\u001b[0m                                Traceback (most recent call last)",
      "\u001b[1;32m<ipython-input-14-e83e9886333b>\u001b[0m in \u001b[0;36m<module>\u001b[1;34m\u001b[0m\n\u001b[0;32m      7\u001b[0m \u001b[0mk\u001b[0m \u001b[1;33m=\u001b[0m \u001b[1;36m3\u001b[0m\u001b[1;33m\u001b[0m\u001b[1;33m\u001b[0m\u001b[0m\n\u001b[0;32m      8\u001b[0m \u001b[1;32mfor\u001b[0m \u001b[0mx\u001b[0m \u001b[1;32min\u001b[0m \u001b[0mrange\u001b[0m\u001b[1;33m(\u001b[0m\u001b[0mlen\u001b[0m\u001b[1;33m(\u001b[0m\u001b[0mTestL\u001b[0m\u001b[1;33m)\u001b[0m\u001b[1;33m)\u001b[0m\u001b[1;33m:\u001b[0m\u001b[1;33m\u001b[0m\u001b[1;33m\u001b[0m\u001b[0m\n\u001b[1;32m----> 9\u001b[1;33m     \u001b[0mneighbors\u001b[0m \u001b[1;33m=\u001b[0m \u001b[0mgetNeighbors\u001b[0m\u001b[1;33m(\u001b[0m\u001b[0mX_all\u001b[0m\u001b[1;33m,\u001b[0m \u001b[0mTst\u001b[0m\u001b[1;33m[\u001b[0m\u001b[0mx\u001b[0m\u001b[1;33m]\u001b[0m\u001b[1;33m,\u001b[0m \u001b[0mk\u001b[0m\u001b[1;33m)\u001b[0m\u001b[1;33m\u001b[0m\u001b[1;33m\u001b[0m\u001b[0m\n\u001b[0m\u001b[0;32m     10\u001b[0m     \u001b[0mresult\u001b[0m \u001b[1;33m=\u001b[0m \u001b[0mgetResponse\u001b[0m\u001b[1;33m(\u001b[0m\u001b[0mneighbors\u001b[0m\u001b[1;33m)\u001b[0m\u001b[1;33m\u001b[0m\u001b[1;33m\u001b[0m\u001b[0m\n\u001b[0;32m     11\u001b[0m     \u001b[0mpredictions\u001b[0m\u001b[1;33m.\u001b[0m\u001b[0mappend\u001b[0m\u001b[1;33m(\u001b[0m\u001b[0mresult\u001b[0m\u001b[1;33m)\u001b[0m\u001b[1;33m\u001b[0m\u001b[1;33m\u001b[0m\u001b[0m\n",
      "\u001b[1;31mIndexError\u001b[0m: index 3000 is out of bounds for axis 0 with size 3000"
     ]
    }
   ],
   "source": [
    "X_all = np.array(X_all)\n",
    "Tst = np.array(TestFe)\n",
    "X_all = X_all[:10000]\n",
    "Tst = Tst[:3000]\n",
    "\n",
    "predictions=[]\n",
    "k = 3\n",
    "for x in range(len(TestL)):\n",
    "    neighbors = getNeighbors(X_all, Tst[x], k)\n",
    "    result = getResponse(neighbors)\n",
    "    predictions.append(result)"
   ]
  },
  {
   "cell_type": "code",
   "execution_count": 13,
   "metadata": {
    "colab": {},
    "colab_type": "code",
    "id": "xKbd1PvMbCTs"
   },
   "outputs": [],
   "source": [
    "tere = TrainDf['class'].round()\n",
    "tere = tere.replace(to_replace=-1,value=0)\n",
    "X_all['class'] = tere\n",
    "TestFe['class'] = TestL"
   ]
  },
  {
   "cell_type": "code",
   "execution_count": 15,
   "metadata": {
    "colab": {
     "base_uri": "https://localhost:8080/",
     "height": 85
    },
    "colab_type": "code",
    "id": "hWhqU7PmgnM6",
    "outputId": "6caaf1cf-151a-4ae1-cefc-45a238e2edd8"
   },
   "outputs": [
    {
     "name": "stderr",
     "output_type": "stream",
     "text": [
      "C:\\Users\\tahir\\AppData\\Local\\Continuum\\anaconda3\\lib\\site-packages\\ipykernel_launcher.py:1: DeprecationWarning:\n",
      "\n",
      "elementwise comparison failed; this will raise an error in the future.\n",
      "\n"
     ]
    }
   ],
   "source": [
    "lala = predictions == Tst"
   ]
  },
  {
   "cell_type": "code",
   "execution_count": 16,
   "metadata": {
    "colab": {},
    "colab_type": "code",
    "id": "gaCEQvFP9vUv"
   },
   "outputs": [],
   "source": [
    "lala = predictions == TestL[:3000]"
   ]
  },
  {
   "cell_type": "code",
   "execution_count": 26,
   "metadata": {
    "colab": {
     "base_uri": "https://localhost:8080/",
     "height": 34
    },
    "colab_type": "code",
    "id": "7lqjUbMg96QT",
    "outputId": "9c0e5c98-89ce-44ca-e1c2-219cde1368d3"
   },
   "outputs": [
    {
     "data": {
      "text/plain": [
       "1805"
      ]
     },
     "execution_count": 26,
     "metadata": {
      "tags": []
     },
     "output_type": "execute_result"
    }
   ],
   "source": [
    "len(predictions)"
   ]
  },
  {
   "cell_type": "code",
   "execution_count": 17,
   "metadata": {
    "colab": {
     "base_uri": "https://localhost:8080/",
     "height": 68
    },
    "colab_type": "code",
    "id": "Gmjt8dwD99Uu",
    "outputId": "d74376b6-8e47-49a7-c30e-c6a8ff446fa4"
   },
   "outputs": [
    {
     "data": {
      "text/plain": [
       "True     0.982667\n",
       "False    0.017333\n",
       "Name: class, dtype: float64"
      ]
     },
     "execution_count": 17,
     "metadata": {},
     "output_type": "execute_result"
    }
   ],
   "source": [
    "lala.value_counts(1)"
   ]
  },
  {
   "cell_type": "code",
   "execution_count": 0,
   "metadata": {
    "colab": {},
    "colab_type": "code",
    "id": "mSx3QqxU-IgP"
   },
   "outputs": [],
   "source": []
  }
 ],
 "metadata": {
  "accelerator": "GPU",
  "colab": {
   "name": "KNN.ipynb",
   "provenance": [],
   "version": "0.3.2"
  },
  "kernelspec": {
   "display_name": "Python 3",
   "language": "python",
   "name": "python3"
  },
  "language_info": {
   "codemirror_mode": {
    "name": "ipython",
    "version": 3
   },
   "file_extension": ".py",
   "mimetype": "text/x-python",
   "name": "python",
   "nbconvert_exporter": "python",
   "pygments_lexer": "ipython3",
   "version": "3.7.1"
  }
 },
 "nbformat": 4,
 "nbformat_minor": 1
}
